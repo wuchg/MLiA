{
 "cells": [
  {
   "cell_type": "code",
   "execution_count": 1,
   "metadata": {},
   "outputs": [],
   "source": [
    "import numpy as np\n",
    "import pandas as pd\n",
    "import operator"
   ]
  },
  {
   "cell_type": "code",
   "execution_count": 2,
   "metadata": {},
   "outputs": [],
   "source": [
    "def loadData():\n",
    "    df=pd.read_table(\"./ds/datingTestSet.txt\",header=None,delim_whitespace=True)\n",
    "    ds=df[[0,1,2]].values\n",
    "    labels=df[3].replace(\"didntLike\",0).replace(\"smallDoses\",1).replace(\"largeDoses\",2).values\n",
    "    return ds,labels"
   ]
  },
  {
   "cell_type": "code",
   "execution_count": 3,
   "metadata": {},
   "outputs": [],
   "source": [
    "def kNN(inX,ds,labels,k):\n",
    "    rows=ds.shape[0]\n",
    "    inXs=np.tile(inX,(rows,1))\n",
    "    diff=inXs-ds\n",
    "    sqDiff=diff**2\n",
    "    sqDistances=sqDiff.sum(axis=1)\n",
    "    distances=sqDistances**0.5\n",
    "    #排序\n",
    "    sortedDistanceIndicies=distances.argsort()\n",
    "    classCount={}\n",
    "    for i in range(k):\n",
    "        voteILabel=labels[sortedDistanceIndicies[i]]\n",
    "        classCount[voteILabel]=classCount.get(voteILabel,0)+1\n",
    "    sortedClassCount=sorted(classCount.items(),key=operator.itemgetter(1),reverse=True)\n",
    "    return sortedClassCount[0][0]   "
   ]
  },
  {
   "cell_type": "code",
   "execution_count": 4,
   "metadata": {},
   "outputs": [],
   "source": [
    "# newVal=(oldVal-minVal)/(maxVal-minVal)\n",
    "def autoNorm(dataSet):\n",
    "    #获取列的最小值\n",
    "    minVals=dataSet.min(0)\n",
    "    maxVals=dataSet.max(0)\n",
    "    ranges=maxVals-minVals\n",
    "    rows=dataSet.shape[0]\n",
    "    temp=dataSet-np.tile(minVals,(rows,1))\n",
    "    normDs=temp/np.tile(ranges,(rows,1))\n",
    "    return normDs,ranges,minVals\n",
    "\n"
   ]
  },
  {
   "cell_type": "code",
   "execution_count": 5,
   "metadata": {},
   "outputs": [
    {
     "data": {
      "text/plain": [
       "0"
      ]
     },
     "execution_count": 5,
     "metadata": {},
     "output_type": "execute_result"
    }
   ],
   "source": [
    "ds,labels=loadData()\n",
    "newDs,ranges,minVals=autoNorm(ds)\n",
    "kNN(newDs[2],newDs,labels,3)"
   ]
  },
  {
   "cell_type": "code",
   "execution_count": 6,
   "metadata": {},
   "outputs": [],
   "source": [
    "def datingClassTest(ratio,k):\n",
    "    hoRatio=ratio\n",
    "    ds,labels=loadData()\n",
    "    newDs,ranges,minVals=autoNorm(ds)\n",
    "    rows=ds.shape[0]\n",
    "    num=int(rows*hoRatio)\n",
    "    errors=0\n",
    "    for i in range(num):\n",
    "        r=kNN(newDs[i,:],newDs[num:rows,:],labels[num:rows],k)\n",
    "        #print(\"the classifier came back with :%d,the real answer is :%d\"%(r,labels[i]))\n",
    "        if(r!=labels[i]):\n",
    "            errors+=1\n",
    "    print(\"the total error rate is %f,k=%d,ratio=%f\" %(errors/num,k,ratio))        "
   ]
  },
  {
   "cell_type": "code",
   "execution_count": 7,
   "metadata": {},
   "outputs": [
    {
     "name": "stdout",
     "output_type": "stream",
     "text": [
      "the total error rate is 0.040000,k=4,ratio=0.100000\n",
      "==========================================\n",
      "the total error rate is 0.080000,k=1,ratio=0.100000\n",
      "the total error rate is 0.081818,k=1,ratio=0.110000\n",
      "the total error rate is 0.100000,k=1,ratio=0.120000\n",
      "the total error rate is 0.100000,k=1,ratio=0.130000\n",
      "the total error rate is 0.092857,k=1,ratio=0.140000\n",
      "the total error rate is 0.086667,k=1,ratio=0.150000\n",
      "the total error rate is 0.081250,k=1,ratio=0.160000\n",
      "the total error rate is 0.088235,k=1,ratio=0.170000\n",
      "the total error rate is 0.094444,k=1,ratio=0.180000\n",
      "the total error rate is 0.094737,k=1,ratio=0.190000\n",
      "the total error rate is 0.080000,k=2,ratio=0.100000\n",
      "the total error rate is 0.081818,k=2,ratio=0.110000\n",
      "the total error rate is 0.100000,k=2,ratio=0.120000\n",
      "the total error rate is 0.100000,k=2,ratio=0.130000\n",
      "the total error rate is 0.092857,k=2,ratio=0.140000\n",
      "the total error rate is 0.086667,k=2,ratio=0.150000\n",
      "the total error rate is 0.081250,k=2,ratio=0.160000\n",
      "the total error rate is 0.088235,k=2,ratio=0.170000\n",
      "the total error rate is 0.094444,k=2,ratio=0.180000\n",
      "the total error rate is 0.094737,k=2,ratio=0.190000\n",
      "the total error rate is 0.050000,k=3,ratio=0.100000\n",
      "the total error rate is 0.054545,k=3,ratio=0.110000\n",
      "the total error rate is 0.058333,k=3,ratio=0.120000\n",
      "the total error rate is 0.053846,k=3,ratio=0.130000\n",
      "the total error rate is 0.057143,k=3,ratio=0.140000\n",
      "the total error rate is 0.066667,k=3,ratio=0.150000\n",
      "the total error rate is 0.062500,k=3,ratio=0.160000\n",
      "the total error rate is 0.064706,k=3,ratio=0.170000\n",
      "the total error rate is 0.072222,k=3,ratio=0.180000\n",
      "the total error rate is 0.073684,k=3,ratio=0.190000\n",
      "the total error rate is 0.040000,k=4,ratio=0.100000\n",
      "the total error rate is 0.045455,k=4,ratio=0.110000\n",
      "the total error rate is 0.058333,k=4,ratio=0.120000\n",
      "the total error rate is 0.053846,k=4,ratio=0.130000\n",
      "the total error rate is 0.057143,k=4,ratio=0.140000\n",
      "the total error rate is 0.066667,k=4,ratio=0.150000\n",
      "the total error rate is 0.062500,k=4,ratio=0.160000\n",
      "the total error rate is 0.064706,k=4,ratio=0.170000\n",
      "the total error rate is 0.072222,k=4,ratio=0.180000\n",
      "the total error rate is 0.073684,k=4,ratio=0.190000\n",
      "the total error rate is 0.050000,k=5,ratio=0.100000\n",
      "the total error rate is 0.054545,k=5,ratio=0.110000\n",
      "the total error rate is 0.066667,k=5,ratio=0.120000\n",
      "the total error rate is 0.061538,k=5,ratio=0.130000\n",
      "the total error rate is 0.057143,k=5,ratio=0.140000\n",
      "the total error rate is 0.053333,k=5,ratio=0.150000\n",
      "the total error rate is 0.050000,k=5,ratio=0.160000\n",
      "the total error rate is 0.052941,k=5,ratio=0.170000\n",
      "the total error rate is 0.061111,k=5,ratio=0.180000\n",
      "the total error rate is 0.057895,k=5,ratio=0.190000\n",
      "the total error rate is 0.050000,k=6,ratio=0.100000\n",
      "the total error rate is 0.054545,k=6,ratio=0.110000\n",
      "the total error rate is 0.075000,k=6,ratio=0.120000\n",
      "the total error rate is 0.069231,k=6,ratio=0.130000\n",
      "the total error rate is 0.064286,k=6,ratio=0.140000\n",
      "the total error rate is 0.053333,k=6,ratio=0.150000\n",
      "the total error rate is 0.050000,k=6,ratio=0.160000\n",
      "the total error rate is 0.058824,k=6,ratio=0.170000\n",
      "the total error rate is 0.066667,k=6,ratio=0.180000\n",
      "the total error rate is 0.068421,k=6,ratio=0.190000\n",
      "the total error rate is 0.040000,k=7,ratio=0.100000\n",
      "the total error rate is 0.045455,k=7,ratio=0.110000\n",
      "the total error rate is 0.066667,k=7,ratio=0.120000\n",
      "the total error rate is 0.061538,k=7,ratio=0.130000\n",
      "the total error rate is 0.057143,k=7,ratio=0.140000\n",
      "the total error rate is 0.053333,k=7,ratio=0.150000\n",
      "the total error rate is 0.050000,k=7,ratio=0.160000\n",
      "the total error rate is 0.052941,k=7,ratio=0.170000\n",
      "the total error rate is 0.061111,k=7,ratio=0.180000\n",
      "the total error rate is 0.063158,k=7,ratio=0.190000\n",
      "the total error rate is 0.050000,k=8,ratio=0.100000\n",
      "the total error rate is 0.054545,k=8,ratio=0.110000\n",
      "the total error rate is 0.066667,k=8,ratio=0.120000\n",
      "the total error rate is 0.069231,k=8,ratio=0.130000\n",
      "the total error rate is 0.064286,k=8,ratio=0.140000\n",
      "the total error rate is 0.060000,k=8,ratio=0.150000\n",
      "the total error rate is 0.056250,k=8,ratio=0.160000\n",
      "the total error rate is 0.064706,k=8,ratio=0.170000\n",
      "the total error rate is 0.072222,k=8,ratio=0.180000\n",
      "the total error rate is 0.073684,k=8,ratio=0.190000\n",
      "the total error rate is 0.050000,k=9,ratio=0.100000\n",
      "the total error rate is 0.054545,k=9,ratio=0.110000\n",
      "the total error rate is 0.066667,k=9,ratio=0.120000\n",
      "the total error rate is 0.069231,k=9,ratio=0.130000\n",
      "the total error rate is 0.064286,k=9,ratio=0.140000\n",
      "the total error rate is 0.060000,k=9,ratio=0.150000\n",
      "the total error rate is 0.056250,k=9,ratio=0.160000\n",
      "the total error rate is 0.058824,k=9,ratio=0.170000\n",
      "the total error rate is 0.066667,k=9,ratio=0.180000\n",
      "the total error rate is 0.073684,k=9,ratio=0.190000\n",
      "the total error rate is 0.060000,k=10,ratio=0.100000\n",
      "the total error rate is 0.063636,k=10,ratio=0.110000\n",
      "the total error rate is 0.083333,k=10,ratio=0.120000\n",
      "the total error rate is 0.084615,k=10,ratio=0.130000\n",
      "the total error rate is 0.078571,k=10,ratio=0.140000\n",
      "the total error rate is 0.066667,k=10,ratio=0.150000\n",
      "the total error rate is 0.062500,k=10,ratio=0.160000\n",
      "the total error rate is 0.070588,k=10,ratio=0.170000\n",
      "the total error rate is 0.077778,k=10,ratio=0.180000\n",
      "the total error rate is 0.084211,k=10,ratio=0.190000\n"
     ]
    }
   ],
   "source": [
    "datingClassTest(0.1,4)\n",
    "print('==========================================')\n",
    "for i in range(10):\n",
    "    for j in range(10):\n",
    "        datingClassTest(0.1+0.01*j,i+1)"
   ]
  },
  {
   "cell_type": "code",
   "execution_count": null,
   "metadata": {},
   "outputs": [],
   "source": []
  }
 ],
 "metadata": {
  "kernelspec": {
   "display_name": "Python 3",
   "language": "python",
   "name": "python3"
  },
  "language_info": {
   "codemirror_mode": {
    "name": "ipython",
    "version": 3
   },
   "file_extension": ".py",
   "mimetype": "text/x-python",
   "name": "python",
   "nbconvert_exporter": "python",
   "pygments_lexer": "ipython3",
   "version": "3.6.0"
  }
 },
 "nbformat": 4,
 "nbformat_minor": 2
}
