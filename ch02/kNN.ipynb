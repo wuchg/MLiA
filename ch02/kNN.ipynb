{
 "cells": [
  {
   "cell_type": "markdown",
   "metadata": {},
   "source": [
    "# k-近邻算法的原理\n",
    "\n",
    "### 给定分类已定的一个训练数据集，当要对新的实例进行分类时，对当前实例和训练数据集中的数据进行距离度量（用特征空间中两个实例点的距离近似反映两个实例的相似程度），按照距离大小升序排列，取前 k 个数据的分类，然后通过特定的分类决策规则作用于前 k 个数据的分类为其划分类别。k-近邻法的三个基本要素：k 值的确定、距离的度量、分类决策规则。\n"
   ]
  },
  {
   "cell_type": "markdown",
   "metadata": {},
   "source": [
    "# k-近邻算法\n",
    "### 输入：训练数据集 $$T=\\{(x_{1},y_{1}),(x_{2},y_{2}),(x_{3},y_{3}),...,(x_{n},y_{n})\\}$$ 其中,$x_{i}\\in X \\subseteq  R^n $ 为实例的特征向量，$y_{i} \\in Y =\\{c_{1},c_{2},...,c_{k}\\} $ 为实例的类别，i=1,2,...,n\n",
    "\n",
    "### 输出:  实例 x 所属的类别 y .\n",
    "### 1.根据给定的距离度量，按照距离大小升序排列，前 k 个数据点的领域记作$N_{k}(x)$ ;\n",
    "### 2.在$N_{k}(x)$ 中根据分类决策规则(如多数表决)决定 x 的类别 y:$$y=\\mathop{\\arg\\max}_{c_{j}}\\sum_{x_{i}\\in N_{k}(x)}I(y_{i}=c_{j}),i=1,2,3,...,n;j=1,2,3...,k $$ I 为指示函数，即当$c_{i}=y_{i}$ 时$I = 1$，否则$ I = 0$.\n",
    "\n"
   ]
  },
  {
   "cell_type": "markdown",
   "metadata": {},
   "source": [
    "# 距离度量\n",
    "### 特征空间中两个实例点的距离是两个实例点相似程度的反映。\n",
    "### 设特征空间 $X$ 是 $n$ 维实数向量空间 $ R^n , x_{i},x_{j} \\in X ,x_{i}=(x_{i}^{(1)},x_{i}^{(2)},x_{i}^{(3)},...,x_{i}^{(n)})^T ,x_{j}=(x_{j}^{(1)},x_{j}^{(2)},x_{j}^{(3)},...,x_{j}^{(n)})^T,x_{i},x_{j}$ 的 $L_{p}$ 距离定义为 $$L_{p}(x_{i},x_{j})=(\\sum_{l=1}^n|x_{i}^{(l)}-x_{j}^{(l)}|^p)^{\\frac{1}{p}}$$ 这里$p\\ge1$ . 当 $p=2$ 时，称为欧式距离(Euclidean distance)，即 $$L_{2}(x_{i},x_{j})=(\\sum_{l=1}^n|x_{i}^{(l)}-x_{j}^{(l)}|^2)^{\\frac{1}{2}}$$ 当 $p=1$ 时，称为曼哈顿距离(Manhattan distance)，即$$L_{1}(x_{i},x_{j})=\\sum_{l=1}^n|x_{i}^{(l)}-x_{j}^{(l)}|$$  当 $p=\\infty$ 时，它是各个坐标距离的最大值，即$$L_{\\infty}(x_{i},x_{j})=\\max_{l}|x_{i}^{(l)}-x_{j}^{(l)}|$$"
   ]
  },
  {
   "cell_type": "markdown",
   "metadata": {},
   "source": [
    "# 分类决策规则\n",
    "### "
   ]
  },
  {
   "cell_type": "markdown",
   "metadata": {},
   "source": [
    "# 算法的优缺点\n",
    "### 优点：\n",
    "### 缺点:"
   ]
  }
 ],
 "metadata": {
  "kernelspec": {
   "display_name": "Python 3",
   "language": "python",
   "name": "python3"
  },
  "language_info": {
   "codemirror_mode": {
    "name": "ipython",
    "version": 3
   },
   "file_extension": ".py",
   "mimetype": "text/x-python",
   "name": "python",
   "nbconvert_exporter": "python",
   "pygments_lexer": "ipython3",
   "version": "3.6.0"
  }
 },
 "nbformat": 4,
 "nbformat_minor": 2
}
